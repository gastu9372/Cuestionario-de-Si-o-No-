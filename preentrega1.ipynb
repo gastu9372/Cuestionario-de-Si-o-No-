{
  "nbformat": 4,
  "nbformat_minor": 0,
  "metadata": {
    "colab": {
      "provenance": [],
      "authorship_tag": "ABX9TyMLr6cwRutS/f9yJchFL1yh",
      "include_colab_link": true
    },
    "kernelspec": {
      "name": "python3",
      "display_name": "Python 3"
    },
    "language_info": {
      "name": "python"
    }
  },
  "cells": [
    {
      "cell_type": "markdown",
      "metadata": {
        "id": "view-in-github",
        "colab_type": "text"
      },
      "source": [
        "<a href=\"https://colab.research.google.com/github/gastu9372/Cuestionario-de-Si-o-No-/blob/main/preentrega1.ipynb\" target=\"_parent\"><img src=\"https://colab.research.google.com/assets/colab-badge.svg\" alt=\"Open In Colab\"/></a>"
      ]
    },
    {
      "cell_type": "code",
      "execution_count": null,
      "metadata": {
        "colab": {
          "base_uri": "https://localhost:8080/",
          "height": 773
        },
        "id": "XZC0uAznywQ9",
        "outputId": "b7428224-19fb-4b65-bca0-cb8b0a565037"
      },
      "outputs": [
        {
          "output_type": "stream",
          "name": "stdout",
          "text": [
            "Seleccione una opción:\n",
            "1. Registrarse\n",
            "2. Ver usuarios registrados\n",
            "3. Iniciar sesión\n",
            "4. Salir\n",
            "Ingrese el número de la opción deseada: 1\n",
            "Ingrese su nombre de usuario: Gaston\n",
            "Ingrese la contraseña para su cuenta: 123\n",
            "Ingrese nuevamente la contraseña para su cuenta: 123\n",
            "Se ha registrado con exito!\n",
            "Seleccione una opción:\n",
            "1. Registrarse\n",
            "2. Ver usuarios registrados\n",
            "3. Iniciar sesión\n",
            "4. Salir\n",
            "Ingrese el número de la opción deseada: 3\n",
            "Ingrese el nombre de usuario con el que desea iniciar sesion: Gaston\n",
            "Ingrese la contraseña con la que desea iniciar sesion: 123\n",
            "Ha iniciado sesion correctamente\n",
            "Seleccione una opción:\n",
            "1. Registrarse\n",
            "2. Ver usuarios registrados\n",
            "3. Iniciar sesión\n",
            "4. Salir\n"
          ]
        },
        {
          "output_type": "error",
          "ename": "KeyboardInterrupt",
          "evalue": "Interrupted by user",
          "traceback": [
            "\u001b[0;31m---------------------------------------------------------------------------\u001b[0m",
            "\u001b[0;31mKeyboardInterrupt\u001b[0m                         Traceback (most recent call last)",
            "\u001b[0;32m<ipython-input-1-badbde8af7ea>\u001b[0m in \u001b[0;36m<cell line: 45>\u001b[0;34m()\u001b[0m\n\u001b[1;32m     50\u001b[0m     \u001b[0mprint\u001b[0m\u001b[0;34m(\u001b[0m\u001b[0;34m\"4. Salir\"\u001b[0m\u001b[0;34m)\u001b[0m\u001b[0;34m\u001b[0m\u001b[0;34m\u001b[0m\u001b[0m\n\u001b[1;32m     51\u001b[0m \u001b[0;34m\u001b[0m\u001b[0m\n\u001b[0;32m---> 52\u001b[0;31m     \u001b[0mopcion\u001b[0m \u001b[0;34m=\u001b[0m \u001b[0minput\u001b[0m\u001b[0;34m(\u001b[0m\u001b[0;34m\"Ingrese el número de la opción deseada: \"\u001b[0m\u001b[0;34m)\u001b[0m\u001b[0;34m\u001b[0m\u001b[0;34m\u001b[0m\u001b[0m\n\u001b[0m\u001b[1;32m     53\u001b[0m \u001b[0;34m\u001b[0m\u001b[0m\n\u001b[1;32m     54\u001b[0m     \u001b[0;32mif\u001b[0m \u001b[0mopcion\u001b[0m \u001b[0;34m==\u001b[0m \u001b[0;34m\"1\"\u001b[0m\u001b[0;34m:\u001b[0m\u001b[0;34m\u001b[0m\u001b[0;34m\u001b[0m\u001b[0m\n",
            "\u001b[0;32m/usr/local/lib/python3.10/dist-packages/ipykernel/kernelbase.py\u001b[0m in \u001b[0;36mraw_input\u001b[0;34m(self, prompt)\u001b[0m\n\u001b[1;32m    849\u001b[0m                 \u001b[0;34m\"raw_input was called, but this frontend does not support input requests.\"\u001b[0m\u001b[0;34m\u001b[0m\u001b[0;34m\u001b[0m\u001b[0m\n\u001b[1;32m    850\u001b[0m             )\n\u001b[0;32m--> 851\u001b[0;31m         return self._input_request(str(prompt),\n\u001b[0m\u001b[1;32m    852\u001b[0m             \u001b[0mself\u001b[0m\u001b[0;34m.\u001b[0m\u001b[0m_parent_ident\u001b[0m\u001b[0;34m,\u001b[0m\u001b[0;34m\u001b[0m\u001b[0;34m\u001b[0m\u001b[0m\n\u001b[1;32m    853\u001b[0m             \u001b[0mself\u001b[0m\u001b[0;34m.\u001b[0m\u001b[0m_parent_header\u001b[0m\u001b[0;34m,\u001b[0m\u001b[0;34m\u001b[0m\u001b[0;34m\u001b[0m\u001b[0m\n",
            "\u001b[0;32m/usr/local/lib/python3.10/dist-packages/ipykernel/kernelbase.py\u001b[0m in \u001b[0;36m_input_request\u001b[0;34m(self, prompt, ident, parent, password)\u001b[0m\n\u001b[1;32m    893\u001b[0m             \u001b[0;32mexcept\u001b[0m \u001b[0mKeyboardInterrupt\u001b[0m\u001b[0;34m:\u001b[0m\u001b[0;34m\u001b[0m\u001b[0;34m\u001b[0m\u001b[0m\n\u001b[1;32m    894\u001b[0m                 \u001b[0;31m# re-raise KeyboardInterrupt, to truncate traceback\u001b[0m\u001b[0;34m\u001b[0m\u001b[0;34m\u001b[0m\u001b[0m\n\u001b[0;32m--> 895\u001b[0;31m                 \u001b[0;32mraise\u001b[0m \u001b[0mKeyboardInterrupt\u001b[0m\u001b[0;34m(\u001b[0m\u001b[0;34m\"Interrupted by user\"\u001b[0m\u001b[0;34m)\u001b[0m \u001b[0;32mfrom\u001b[0m \u001b[0;32mNone\u001b[0m\u001b[0;34m\u001b[0m\u001b[0;34m\u001b[0m\u001b[0m\n\u001b[0m\u001b[1;32m    896\u001b[0m             \u001b[0;32mexcept\u001b[0m \u001b[0mException\u001b[0m \u001b[0;32mas\u001b[0m \u001b[0me\u001b[0m\u001b[0;34m:\u001b[0m\u001b[0;34m\u001b[0m\u001b[0;34m\u001b[0m\u001b[0m\n\u001b[1;32m    897\u001b[0m                 \u001b[0mself\u001b[0m\u001b[0;34m.\u001b[0m\u001b[0mlog\u001b[0m\u001b[0;34m.\u001b[0m\u001b[0mwarning\u001b[0m\u001b[0;34m(\u001b[0m\u001b[0;34m\"Invalid Message:\"\u001b[0m\u001b[0;34m,\u001b[0m \u001b[0mexc_info\u001b[0m\u001b[0;34m=\u001b[0m\u001b[0;32mTrue\u001b[0m\u001b[0;34m)\u001b[0m\u001b[0;34m\u001b[0m\u001b[0;34m\u001b[0m\u001b[0m\n",
            "\u001b[0;31mKeyboardInterrupt\u001b[0m: Interrupted by user"
          ]
        }
      ],
      "source": [
        "import random\n",
        "import string\n",
        "# Diccionario vacio para almacenart usuarios y contraseñas\n",
        "cuentas = {}\n",
        "\n",
        "# Funcion para registrarse\n",
        "def sign_in(cuentas):\n",
        "    user = input(\"Ingrese su nombre de usuario: \")\n",
        "\n",
        "    # Verifica que no haya un usuario con\n",
        "    while user in cuentas:\n",
        "        print(\"Error: El usuario ya exsite. \")\n",
        "        user = input(\"Ingrese su nombre de usuario: \")\n",
        "\n",
        "    # Se ingresan las contraseñas y se verifica que coincidan.\n",
        "    password = input(\"Ingrese la contraseña para su cuenta: \")\n",
        "    passwordconfirm = input(\"Ingrese nuevamente la contraseña para su cuenta: \")\n",
        "    while password != passwordconfirm:\n",
        "            print(\"Error: las contraseñas no coinicden \\nDebe volver a ingresar ambas.\")\n",
        "            password = input(\"Ingrese la contraseña para su cuenta: \")\n",
        "            passwordconfirm = input(\"Ingrese nuevamente la contraseña para su cuenta: \")\n",
        "\n",
        "    # Agrega el usuario y la contraseña al diccionario\n",
        "    cuentas[user] = password\n",
        "    print(\"Se ha registrado con exito!\")\n",
        "\n",
        "# Funcion para ver todas las cuentas con nombre y usuario\n",
        "def ver_cuentas():\n",
        "    if cuentas:\n",
        "        print(\"Usuarios registrados: \")\n",
        "        for user in cuentas:\n",
        "            print(user)\n",
        "    else:\n",
        "        print(\"No hay cuentas registradas.\")\n",
        "\n",
        "def login(cuentas):\n",
        "    user = input(\"Ingrese el nombre de usuario con el que desea iniciar sesion: \")\n",
        "    password = input(\"Ingrese la contraseña con la que desea iniciar sesion: \")\n",
        "\n",
        "    if user in cuentas and cuentas[user] == password:\n",
        "        return captcha()\n",
        "    elif user in cuentas:\n",
        "        return \"La contraseña es incorrecta\"\n",
        "    else:\n",
        "        return \"Error: El nombre de usuario incorrecto\"\n",
        "\n",
        "# verifico el captcha\n",
        "def captcha():\n",
        "    verficable = generar_captcha()\n",
        "    while True:\n",
        "        print (\"Complete el captcha \\n\")\n",
        "        print(verficable)\n",
        "        entrada = input('Ingrese el captcha: ')\n",
        "        if entrada == verficable:\n",
        "            return \"Ha iniciado sesion correctamente\"\n",
        "        else:\n",
        "            print(\"Error\")\n",
        "            verficable = generar_captcha()\n",
        "\n",
        "\n",
        "# Genero un captcha\n",
        "def generar_captcha():\n",
        "    caracteres = string.ascii_letters + string.digits  # Letras y números\n",
        "    secuencia = ''.join(random.choices(caracteres, k = 10))\n",
        "    return secuencia\n",
        "\n",
        "\n",
        "while True:\n",
        "    print(\"Seleccione una opción:\")\n",
        "    print(\"1. Registrarse\")\n",
        "    print(\"2. Ver usuarios registrados\")\n",
        "    print(\"3. Iniciar sesión\")\n",
        "    print(\"4. Salir\")\n",
        "\n",
        "    opcion = input(\"Ingrese el número de la opción deseada: \")\n",
        "\n",
        "    if opcion == \"1\":\n",
        "        sign_in(cuentas)\n",
        "    elif opcion == \"2\":\n",
        "        ver_cuentas()\n",
        "    elif opcion == \"3\":\n",
        "        print(login(cuentas))\n",
        "    elif opcion == \"4\":\n",
        "        print(\"Gracias por utilizar el sistema. ¡Hasta luego!\")\n",
        "        break\n",
        "    else:\n",
        "        print(\"Opción no válida. Intente nuevamente.\")"
      ]
    }
  ]
}